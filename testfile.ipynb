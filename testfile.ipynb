{
 "cells": [
  {
   "cell_type": "code",
   "execution_count": 1,
   "metadata": {},
   "outputs": [],
   "source": [
    "import time\n",
    "import pandas as pd\n",
    "import mel_functions as zl\n",
    "import re as re"
   ]
  },
  {
   "cell_type": "code",
   "execution_count": 2,
   "metadata": {},
   "outputs": [
    {
     "name": "stdout",
     "output_type": "stream",
     "text": [
      "1 day ago\n"
     ]
    }
   ],
   "source": [
    "output_data = []\n",
    "\n",
    "with open(\"raw_data.txt\", 'r') as txt_file:\n",
    "    new_obs = []\n",
    "    readfile = txt_file.read()\n",
    "    parser = zl.html_parser(readfile)\n",
    "\n",
    "    # Street Address\n",
    "    new_obs.append(parser.get_card_info())\n",
    "    \n",
    "    # Street Address\n",
    "    new_obs.append(parser.get_street_address())\n",
    "\n",
    "    # City\n",
    "    new_obs.append(parser.get_city())\n",
    "\n",
    "    # State\n",
    "    new_obs.append(parser.get_state())\n",
    "\n",
    "    # Zipcode\n",
    "    new_obs.append(parser.get_zipcode())\n",
    "\n",
    "    # Price\n",
    "    new_obs.append(parser.get_price())\n",
    "\n",
    "    # Sqft\n",
    "    new_obs.append(parser.get_sqft())\n",
    "\n",
    "    # Bedrooms\n",
    "    new_obs.append(parser.get_bedrooms())\n",
    "\n",
    "    # Bathrooms\n",
    "    new_obs.append(parser.get_bathrooms())\n",
    "\n",
    "    # Days on the Market/Zillow\n",
    "    new_obs.append(parser.get_days_on_market())\n",
    "\n",
    "    # Sale Type (House for Sale, New Construction, Foreclosure, etc.)\n",
    "    new_obs.append(parser.get_sale_type())\n",
    "\n",
    "    # URL for each house listing\n",
    "    new_obs.append(parser.get_url())\n",
    "\n",
    "    # Append new_obs to list output_data.\n",
    "    output_data.append(new_obs)"
   ]
  },
  {
   "cell_type": "code",
   "execution_count": 3,
   "metadata": {},
   "outputs": [
    {
     "data": {
      "text/plain": [
       "[['3 bds · 1.5 ba · 1,800 sqft',\n",
       "  'Monticello St',\n",
       "  'SAN FRANCISCO',\n",
       "  'CA',\n",
       "  '94132',\n",
       "  3850.0,\n",
       "  1800.0,\n",
       "  3.0,\n",
       "  1.5,\n",
       "  '1 day ago',\n",
       "  'House for rent',\n",
       "  'http://www.zillow.com/homes/for_rent/homedetails/Monticello-St-San-Francisco-CA-94132/2086492696_zpid/']]"
      ]
     },
     "execution_count": 3,
     "metadata": {},
     "output_type": "execute_result"
    }
   ],
   "source": [
    "output_data"
   ]
  },
  {
   "cell_type": "code",
   "execution_count": null,
   "metadata": {},
   "outputs": [],
   "source": []
  },
  {
   "cell_type": "code",
   "execution_count": null,
   "metadata": {},
   "outputs": [],
   "source": []
  }
 ],
 "metadata": {
  "kernelspec": {
   "display_name": "Python 3",
   "language": "python",
   "name": "python3"
  },
  "language_info": {
   "codemirror_mode": {
    "name": "ipython",
    "version": 3
   },
   "file_extension": ".py",
   "mimetype": "text/x-python",
   "name": "python",
   "nbconvert_exporter": "python",
   "pygments_lexer": "ipython3",
   "version": "3.7.0"
  }
 },
 "nbformat": 4,
 "nbformat_minor": 2
}
